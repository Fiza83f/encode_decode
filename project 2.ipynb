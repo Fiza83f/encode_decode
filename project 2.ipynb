{
 "cells": [
  {
   "cell_type": "code",
   "execution_count": null,
   "id": "9cc9710e",
   "metadata": {},
   "outputs": [
    {
     "name": "stdout",
     "output_type": "stream",
     "text": [
      "tye 'encode' to encrypt type 'decode' to decrypt \n",
      "encode\n",
      "type your text \n",
      "fiza\n",
      "type the shift number \n",
      "3\n",
      "type 'encode' to encrypt type 'decode' to decrypt \n",
      "decode\n"
     ]
    }
   ],
   "source": [
    "alphabets=['a','b','c','d','e','f','g','h','i','j','k','l','m','n','o','p','q','r','s','t','u','v','w','x','y','z','a','b','c','d','e','f','g','h','i','j','k','l','m','n','o','p','q','r','s','t','u','v','w','x','y','z']\n",
    "\n",
    "    \n",
    "direction=input(\"tye 'encode' to encrypt type 'decode' to decrypt \\n\")\n",
    "text=input(\"type your text \\n\").lower()\n",
    "shift=int(input(\"type the shift number \\n\"))\n",
    "def caeser(start_text,shift_amount,cipher_direction):\n",
    "    end_text=\" \"\n",
    "    if cipher_direction ==\"decode\":\n",
    "            shift_amount = -shift_amount\n",
    "    for char in start_text:\n",
    "        if char  in alphabets:\n",
    "            \n",
    "    \n",
    "            position=alphabets.index(char)\n",
    "            \n",
    "\n",
    "            new_position = position + shift_amount\n",
    "            end_text +=alphabets[new_position]\n",
    "        else:\n",
    "            end_text +=char\n",
    "            \n",
    "    print(f\"the here is the {direction}d result is {end_text}\")\n",
    "should_continue =True\n",
    "while should_continue:\n",
    "    \n",
    "    direction=input(\"type 'encode' to encrypt type 'decode' to decrypt \\n\")\n",
    "    text=input(\"type your text \\n\").lower()\n",
    "    shift=int(input(\"type the shift number \\n\"))\n",
    "    shift= shift % 26\n",
    "    caeser(start_text=text,shift_amount=shift,cipher_direction=direction)\n",
    "    \n",
    "    result=input(\"type yes if you want to continue or no if you don't:\\n\")\n",
    "    if result ==\"no\":\n",
    "        should_continue = False\n",
    "        print(\"goodbye\")"
   ]
  },
  {
   "cell_type": "code",
   "execution_count": null,
   "id": "4faeb877",
   "metadata": {},
   "outputs": [],
   "source": []
  }
 ],
 "metadata": {
  "kernelspec": {
   "display_name": "Python 3 (ipykernel)",
   "language": "python",
   "name": "python3"
  },
  "language_info": {
   "codemirror_mode": {
    "name": "ipython",
    "version": 3
   },
   "file_extension": ".py",
   "mimetype": "text/x-python",
   "name": "python",
   "nbconvert_exporter": "python",
   "pygments_lexer": "ipython3",
   "version": "3.10.6"
  }
 },
 "nbformat": 4,
 "nbformat_minor": 5
}
